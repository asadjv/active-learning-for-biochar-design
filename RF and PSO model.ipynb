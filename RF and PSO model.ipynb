{
 "cells": [
  {
   "cell_type": "code",
   "execution_count": 3,
   "metadata": {},
   "outputs": [],
   "source": [
    "# Importing the relevant libraries\n",
    "\n",
    "import numpy as np\n",
    "import matplotlib.pyplot as plt\n",
    "import seaborn as sns\n",
    "import pandas as pd\n",
    "from sklearn.model_selection import train_test_split\n",
    "from sklearn.feature_selection import VarianceThreshold\n",
    "\n",
    "#Librarries specific to the algorithms\n",
    "from sklearn.ensemble import RandomForestRegressor\n",
    "from pyswarm import pso"
   ]
  },
  {
   "cell_type": "code",
   "execution_count": 27,
   "metadata": {},
   "outputs": [],
   "source": [
    "# Import the dataset. Please ensure the excel sheet is in the same folder as the notebok and change the sheetname depending on the data you wish to train on. The excel sheet has 4 tabs in total, correpsonding to the active learning cycles \n",
    "data = pd.read_excel('Data for model.xlsx', sheet_name ='Seed')\n"
   ]
  },
  {
   "cell_type": "code",
   "execution_count": 28,
   "metadata": {},
   "outputs": [
    {
     "data": {
      "text/html": [
       "<div>\n",
       "<style scoped>\n",
       "    .dataframe tbody tr th:only-of-type {\n",
       "        vertical-align: middle;\n",
       "    }\n",
       "\n",
       "    .dataframe tbody tr th {\n",
       "        vertical-align: top;\n",
       "    }\n",
       "\n",
       "    .dataframe thead th {\n",
       "        text-align: right;\n",
       "    }\n",
       "</style>\n",
       "<table border=\"1\" class=\"dataframe\">\n",
       "  <thead>\n",
       "    <tr style=\"text-align: right;\">\n",
       "      <th></th>\n",
       "      <th>CT</th>\n",
       "      <th>CR</th>\n",
       "      <th>AT</th>\n",
       "      <th>AR</th>\n",
       "      <th>Ratio</th>\n",
       "      <th>Pore</th>\n",
       "    </tr>\n",
       "  </thead>\n",
       "  <tbody>\n",
       "    <tr>\n",
       "      <th>0</th>\n",
       "      <td>200</td>\n",
       "      <td>1.0</td>\n",
       "      <td>300</td>\n",
       "      <td>1.0</td>\n",
       "      <td>2.0</td>\n",
       "      <td>0.002902</td>\n",
       "    </tr>\n",
       "    <tr>\n",
       "      <th>1</th>\n",
       "      <td>200</td>\n",
       "      <td>4.0</td>\n",
       "      <td>700</td>\n",
       "      <td>2.0</td>\n",
       "      <td>0.5</td>\n",
       "      <td>0.112226</td>\n",
       "    </tr>\n",
       "    <tr>\n",
       "      <th>2</th>\n",
       "      <td>300</td>\n",
       "      <td>3.0</td>\n",
       "      <td>500</td>\n",
       "      <td>0.5</td>\n",
       "      <td>3.0</td>\n",
       "      <td>0.096670</td>\n",
       "    </tr>\n",
       "    <tr>\n",
       "      <th>3</th>\n",
       "      <td>500</td>\n",
       "      <td>2.0</td>\n",
       "      <td>800</td>\n",
       "      <td>3.0</td>\n",
       "      <td>2.0</td>\n",
       "      <td>0.183339</td>\n",
       "    </tr>\n",
       "    <tr>\n",
       "      <th>4</th>\n",
       "      <td>500</td>\n",
       "      <td>0.5</td>\n",
       "      <td>400</td>\n",
       "      <td>4.0</td>\n",
       "      <td>1.0</td>\n",
       "      <td>0.006232</td>\n",
       "    </tr>\n",
       "  </tbody>\n",
       "</table>\n",
       "</div>"
      ],
      "text/plain": [
       "    CT   CR   AT   AR  Ratio      Pore\n",
       "0  200  1.0  300  1.0    2.0  0.002902\n",
       "1  200  4.0  700  2.0    0.5  0.112226\n",
       "2  300  3.0  500  0.5    3.0  0.096670\n",
       "3  500  2.0  800  3.0    2.0  0.183339\n",
       "4  500  0.5  400  4.0    1.0  0.006232"
      ]
     },
     "execution_count": 28,
     "metadata": {},
     "output_type": "execute_result"
    }
   ],
   "source": [
    "#Preliminary overview of the dataset\n",
    "data.head()"
   ]
  },
  {
   "cell_type": "code",
   "execution_count": 29,
   "metadata": {},
   "outputs": [
    {
     "data": {
      "text/plain": [
       "10"
      ]
     },
     "execution_count": 29,
     "metadata": {},
     "output_type": "execute_result"
    }
   ],
   "source": [
    "len(data)"
   ]
  },
  {
   "cell_type": "code",
   "execution_count": 30,
   "metadata": {},
   "outputs": [],
   "source": [
    "#Assigning the input variables and target variable (X= inputm y=target)\n",
    "X = data.drop(labels= ['Pore'], axis=1)\n",
    "y = data['Pore']\n"
   ]
  },
  {
   "cell_type": "code",
   "execution_count": 31,
   "metadata": {},
   "outputs": [
    {
     "data": {
      "text/plain": [
       "(array([2., 0., 0., 0., 2., 1., 1., 1., 0., 3.]),\n",
       " array([0.0029017 , 0.02294113, 0.04298056, 0.06301999, 0.08305942,\n",
       "        0.10309885, 0.12313828, 0.14317771, 0.16321714, 0.18325657,\n",
       "        0.203296  ]),\n",
       " <BarContainer object of 10 artists>)"
      ]
     },
     "execution_count": 31,
     "metadata": {},
     "output_type": "execute_result"
    },
    {
     "data": {
      "image/png": "[encoded data removed]",
      "text/plain": [
       "<Figure size 432x288 with 1 Axes>"
      ]
     },
     "metadata": {
      "needs_background": "light"
     },
     "output_type": "display_data"
    }
   ],
   "source": [
    "# Descriptive statistics for of target variable\n",
    "y.describe()\n",
    "\n",
    "import matplotlib.pyplot\n",
    "matplotlib.pyplot.hist(y)"
   ]
  },
  {
   "cell_type": "code",
   "execution_count": 32,
   "metadata": {},
   "outputs": [
    {
     "data": {
      "text/html": [
       "<div>\n",
       "<style scoped>\n",
       "    .dataframe tbody tr th:only-of-type {\n",
       "        vertical-align: middle;\n",
       "    }\n",
       "\n",
       "    .dataframe tbody tr th {\n",
       "        vertical-align: top;\n",
       "    }\n",
       "\n",
       "    .dataframe thead th {\n",
       "        text-align: right;\n",
       "    }\n",
       "</style>\n",
       "<table border=\"1\" class=\"dataframe\">\n",
       "  <thead>\n",
       "    <tr style=\"text-align: right;\">\n",
       "      <th></th>\n",
       "      <th>CT</th>\n",
       "      <th>CR</th>\n",
       "      <th>AT</th>\n",
       "      <th>AR</th>\n",
       "      <th>Ratio</th>\n",
       "    </tr>\n",
       "  </thead>\n",
       "  <tbody>\n",
       "    <tr>\n",
       "      <th>0</th>\n",
       "      <td>200</td>\n",
       "      <td>1.0</td>\n",
       "      <td>300</td>\n",
       "      <td>1.0</td>\n",
       "      <td>2.0</td>\n",
       "    </tr>\n",
       "    <tr>\n",
       "      <th>1</th>\n",
       "      <td>200</td>\n",
       "      <td>4.0</td>\n",
       "      <td>700</td>\n",
       "      <td>2.0</td>\n",
       "      <td>0.5</td>\n",
       "    </tr>\n",
       "    <tr>\n",
       "      <th>2</th>\n",
       "      <td>300</td>\n",
       "      <td>3.0</td>\n",
       "      <td>500</td>\n",
       "      <td>0.5</td>\n",
       "      <td>3.0</td>\n",
       "    </tr>\n",
       "    <tr>\n",
       "      <th>3</th>\n",
       "      <td>500</td>\n",
       "      <td>2.0</td>\n",
       "      <td>800</td>\n",
       "      <td>3.0</td>\n",
       "      <td>2.0</td>\n",
       "    </tr>\n",
       "    <tr>\n",
       "      <th>4</th>\n",
       "      <td>500</td>\n",
       "      <td>0.5</td>\n",
       "      <td>400</td>\n",
       "      <td>4.0</td>\n",
       "      <td>1.0</td>\n",
       "    </tr>\n",
       "    <tr>\n",
       "      <th>5</th>\n",
       "      <td>600</td>\n",
       "      <td>2.0</td>\n",
       "      <td>300</td>\n",
       "      <td>2.0</td>\n",
       "      <td>0.5</td>\n",
       "    </tr>\n",
       "    <tr>\n",
       "      <th>6</th>\n",
       "      <td>750</td>\n",
       "      <td>1.5</td>\n",
       "      <td>600</td>\n",
       "      <td>0.5</td>\n",
       "      <td>2.0</td>\n",
       "    </tr>\n",
       "    <tr>\n",
       "      <th>7</th>\n",
       "      <td>800</td>\n",
       "      <td>3.0</td>\n",
       "      <td>800</td>\n",
       "      <td>1.0</td>\n",
       "      <td>3.0</td>\n",
       "    </tr>\n",
       "    <tr>\n",
       "      <th>8</th>\n",
       "      <td>800</td>\n",
       "      <td>0.5</td>\n",
       "      <td>400</td>\n",
       "      <td>3.0</td>\n",
       "      <td>1.0</td>\n",
       "    </tr>\n",
       "    <tr>\n",
       "      <th>9</th>\n",
       "      <td>850</td>\n",
       "      <td>1.0</td>\n",
       "      <td>300</td>\n",
       "      <td>1.0</td>\n",
       "      <td>1.5</td>\n",
       "    </tr>\n",
       "  </tbody>\n",
       "</table>\n",
       "</div>"
      ],
      "text/plain": [
       "    CT   CR   AT   AR  Ratio\n",
       "0  200  1.0  300  1.0    2.0\n",
       "1  200  4.0  700  2.0    0.5\n",
       "2  300  3.0  500  0.5    3.0\n",
       "3  500  2.0  800  3.0    2.0\n",
       "4  500  0.5  400  4.0    1.0\n",
       "5  600  2.0  300  2.0    0.5\n",
       "6  750  1.5  600  0.5    2.0\n",
       "7  800  3.0  800  1.0    3.0\n",
       "8  800  0.5  400  3.0    1.0\n",
       "9  850  1.0  300  1.0    1.5"
      ]
     },
     "execution_count": 32,
     "metadata": {},
     "output_type": "execute_result"
    }
   ],
   "source": [
    "#overview of the input variables as a dataframe\n",
    "X"
   ]
  },
  {
   "cell_type": "code",
   "execution_count": 33,
   "metadata": {},
   "outputs": [
    {
     "name": "stdout",
     "output_type": "stream",
     "text": [
      "The training R2 is:  0.8538750378141051\n",
      "MSE: 0.00\n",
      "RMSE of test set: 0.026\n"
     ]
    },
    {
     "data": {
      "image/png": "[encoded data removed]",
      "text/plain": [
       "<Figure size 432x288 with 1 Axes>"
      ]
     },
     "metadata": {
      "needs_background": "light"
     },
     "output_type": "display_data"
    }
   ],
   "source": [
    "# Fitting RandomForest (RF) Regression to the dataset. Since this is a rather small dataset, we do not split it into training:test. \n",
    "#Rather we use the entire data for training the RF model, which is the forward model in this study.\n",
    "\n",
    "\n",
    "from sklearn.ensemble import RandomForestRegressor\n",
    "modelRF =  RandomForestRegressor(n_estimators = 100,  max_features='sqrt', max_depth = None, min_samples_split=2)\n",
    "modelRF.fit(X, y)\n",
    "\n",
    "#Measure the R2 for training and test set\n",
    "model_score = modelRF.score(X,y)\n",
    "print(\"The training R2 is: \", modelRF.score(X, y))\n",
    "\n",
    "\n",
    "from sklearn.metrics import mean_squared_error\n",
    "from math import sqrt\n",
    "\n",
    "\n",
    "y_pred = modelRF.predict(X)\n",
    "\n",
    "# The mean squared error & Variance\n",
    "print(\"MSE: %.2f\"% mean_squared_error(y, y_pred))\n",
    "print(\"RMSE of test set: %.3f\"% sqrt(mean_squared_error(y, y_pred)))\n",
    "\n",
    "\n",
    "#Plot the actual v/s predicted\n",
    "fig, ax = plt.subplots()\n",
    "ax.scatter(y, y_pred, edgecolors=(0, 0, 0))\n",
    "ax.plot([y.min(), y.max()], [y.min(), y.max()], 'k--', lw=4)\n",
    "ax.set_xlabel('Actual')\n",
    "ax.set_ylabel('Predicted')\n",
    "ax.set_title(\"Experimental vs Predicted\")\n",
    "plt.show()\n"
   ]
  },
  {
   "cell_type": "code",
   "execution_count": 34,
   "metadata": {},
   "outputs": [
    {
     "data": {
      "image/png": "[encoded data removed]",
      "text/plain": [
       "<Figure size 576x288 with 1 Axes>"
      ]
     },
     "metadata": {},
     "output_type": "display_data"
    }
   ],
   "source": [
    "#Perform feature importance via SHAP analysis by using the RF model\n",
    "import shap\n",
    "\n",
    "explainer1 = shap.Explainer(modelRF)\n",
    "shap_values1 = explainer1(X)\n",
    "\n",
    "shap.plots.bar(shap_values1, max_display=15)"
   ]
  },
  {
   "cell_type": "markdown",
   "metadata": {},
   "source": [
    "# Particle Swarm Optimization"
   ]
  },
  {
   "cell_type": "code",
   "execution_count": 35,
   "metadata": {},
   "outputs": [
    {
     "name": "stdout",
     "output_type": "stream",
     "text": [
      "Stopping search: maximum iterations reached --> 50\n",
      "Optimal input variables: [7.00000000e+02 2.10931932e+00 8.00000000e+02 5.74038253e-01\n",
      " 2.51176129e+00]\n",
      "Optimal function value: [-0.17853097]\n",
      "Stopping search: maximum iterations reached --> 50\n",
      "Optimal input variables: [700.           2.16291448 800.           3.40683643   2.73498147]\n",
      "Optimal function value: [-0.17645471]\n",
      "Stopping search: maximum iterations reached --> 50\n",
      "Optimal input variables: [6.98708026e+02 2.07145567e+00 8.00000000e+02 5.00000000e-01\n",
      " 2.82768927e+00]\n",
      "Optimal function value: [-0.17853097]\n"
     ]
    }
   ],
   "source": [
    "#Develop the PSO which uses RF as surrogate model and inturn recommends optimal values of the input necessray to maximize our target variable.\n",
    "\n",
    "def black_box_function(x):\n",
    "    Ctemp, Ctime, Acttemp, Acttime, Ratio = x\n",
    "    df = pd.DataFrame({\"CT\": [Ctemp], \"CR\": [Ctime], \"AT\": [Acttemp], \"AR\": [Acttime], \"Ratio\": [Ratio]})\n",
    "    y_PSO = -1*modelRF.predict(df) #PSO by default is a minimizing optimizer. The surrogate model (RF) is multiplied by -1 to inverse the condition and devise a maximizing objective function which is the goal of this project\n",
    "    return y_PSO\n",
    "\n",
    "# Initialize lists to store optimal input values and target variable\n",
    "\n",
    "optimal_inputs = []\n",
    "target_variable = []\n",
    "#function_values = []\n",
    "\n",
    "#Define the lower and upper bounds of the input variables. They must be placed in the order of the appearance in the above dataframe\n",
    "\n",
    "lb = [200, 0.5, 300, 0.5, 0.5]\n",
    "ub = [700, 4, 800, 4, 3]\n",
    "\n",
    "\n",
    "# Run multiple rounds of optimization to get a decent sense of the values. Swarmsize and maxiter are the two tuning parameter used. \n",
    "#Generally for a small dataset as this with 5 input variables, swarmsize between 20-100 and maxiter between 20-50 shoudl suffice.\n",
    "#However these values are user dependent and can be defined based on the scope of project, computation capacity and user experience\n",
    "\n",
    "for _ in range(3): # the loop range can be increased or decreased depeninding on need. In the actual paper we used 10 loops, whihc would generate us 10 experimental conditions worth investigation. we would then collectively decide what experiments to perform based on our domain knowledge and experimental constraints.\n",
    "    xopt, fopt = pso(black_box_function, lb, ub,swarmsize=50, maxiter=50)\n",
    "    print(\"Optimal input variables:\", xopt)\n",
    "    print(\"Optimal function value:\", fopt)\n",
    "    \n",
    "    # Round optimal input values and function value to two decimal places\n",
    "    xopt_rounded = np.round(xopt, 2)\n",
    "    fopt_rounded = -1*np.round(fopt, 4)# multiplied by -1 to get positive values of taregt variable in the final step\n",
    "    \n",
    " # Store optimal input values and function values\n",
    "    optimal_inputs.append( xopt_rounded)\n",
    "    target_variable.append(fopt_rounded)"
   ]
  },
  {
   "cell_type": "code",
   "execution_count": 36,
   "metadata": {},
   "outputs": [
    {
     "data": {
      "text/html": [
       "<div>\n",
       "<style scoped>\n",
       "    .dataframe tbody tr th:only-of-type {\n",
       "        vertical-align: middle;\n",
       "    }\n",
       "\n",
       "    .dataframe tbody tr th {\n",
       "        vertical-align: top;\n",
       "    }\n",
       "\n",
       "    .dataframe thead th {\n",
       "        text-align: right;\n",
       "    }\n",
       "</style>\n",
       "<table border=\"1\" class=\"dataframe\">\n",
       "  <thead>\n",
       "    <tr style=\"text-align: right;\">\n",
       "      <th></th>\n",
       "      <th>Optimal_Ctemp</th>\n",
       "      <th>Optimal_Ctime</th>\n",
       "      <th>Optimal_Acttemp</th>\n",
       "      <th>Optimal_Acttime</th>\n",
       "      <th>Optimal_Ratio</th>\n",
       "      <th>Micropore</th>\n",
       "    </tr>\n",
       "  </thead>\n",
       "  <tbody>\n",
       "    <tr>\n",
       "      <th>0</th>\n",
       "      <td>700.00</td>\n",
       "      <td>2.11</td>\n",
       "      <td>800.0</td>\n",
       "      <td>0.57</td>\n",
       "      <td>2.51</td>\n",
       "      <td>[0.1785]</td>\n",
       "    </tr>\n",
       "    <tr>\n",
       "      <th>1</th>\n",
       "      <td>700.00</td>\n",
       "      <td>2.16</td>\n",
       "      <td>800.0</td>\n",
       "      <td>3.41</td>\n",
       "      <td>2.73</td>\n",
       "      <td>[0.1765]</td>\n",
       "    </tr>\n",
       "    <tr>\n",
       "      <th>2</th>\n",
       "      <td>698.71</td>\n",
       "      <td>2.07</td>\n",
       "      <td>800.0</td>\n",
       "      <td>0.50</td>\n",
       "      <td>2.83</td>\n",
       "      <td>[0.1785]</td>\n",
       "    </tr>\n",
       "  </tbody>\n",
       "</table>\n",
       "</div>"
      ],
      "text/plain": [
       "   Optimal_Ctemp  Optimal_Ctime  Optimal_Acttemp  Optimal_Acttime  \\\n",
       "0         700.00           2.11            800.0             0.57   \n",
       "1         700.00           2.16            800.0             3.41   \n",
       "2         698.71           2.07            800.0             0.50   \n",
       "\n",
       "   Optimal_Ratio Micropore  \n",
       "0           2.51  [0.1785]  \n",
       "1           2.73  [0.1765]  \n",
       "2           2.83  [0.1785]  "
      ]
     },
     "execution_count": 36,
     "metadata": {},
     "output_type": "execute_result"
    }
   ],
   "source": [
    "# Create a dataframe to store the results\n",
    "results_df = pd.DataFrame(optimal_inputs, columns=[\"Optimal_Ctemp\", \"Optimal_Ctime\", \"Optimal_Acttemp\", \"Optimal_Acttime\", \"Optimal_Ratio\"])\n",
    "results_df[\"Micropore\"] = target_variable  \n",
    "results_df"
   ]
  },
  {
   "cell_type": "code",
   "execution_count": null,
   "metadata": {},
   "outputs": [],
   "source": [
    "\n"
   ]
  }
 ],
 "metadata": {
  "kernelspec": {
   "display_name": "Python 3",
   "language": "python",
   "name": "python3"
  },
  "language_info": {
   "codemirror_mode": {
    "name": "ipython",
    "version": 3
   },
   "file_extension": ".py",
   "mimetype": "text/x-python",
   "name": "python",
   "nbconvert_exporter": "python",
   "pygments_lexer": "ipython3",
   "version": "3.8.5"
  }
 },
 "nbformat": 4,
 "nbformat_minor": 2
}
